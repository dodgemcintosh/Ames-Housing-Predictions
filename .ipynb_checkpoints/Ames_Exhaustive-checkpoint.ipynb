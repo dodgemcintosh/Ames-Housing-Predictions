{
 "cells": [
  {
   "cell_type": "markdown",
   "metadata": {},
   "source": [
    "# // Importing libraries //"
   ]
  },
  {
   "cell_type": "code",
   "execution_count": 1062,
   "metadata": {
    "collapsed": true
   },
   "outputs": [],
   "source": [
    "import pandas as pd\n",
    "from sklearn.model_selection import train_test_split, cross_val_score, GridSearchCV, RandomizedSearchCV\n",
    "from sklearn.linear_model import LinearRegression\n",
    "from sklearn.linear_model import Lasso, Ridge, ElasticNet, LassoCV, RidgeCV, ElasticNetCV\n",
    "from sklearn.preprocessing import StandardScaler\n",
    "import matplotlib.pyplot as plt\n",
    "import seaborn as sns\n",
    "import numpy as np\n",
    "\n",
    "from sklearn.pipeline import Pipeline, FeatureUnion # These ones are new!\n",
    "from sklearn.preprocessing import PolynomialFeatures, FunctionTransformer, Imputer\n",
    "\n",
    "%matplotlib inline\n",
    "\n",
    "sns.set_style('darkgrid')"
   ]
  },
  {
   "cell_type": "markdown",
   "metadata": {},
   "source": [
    "# // Reading in the data //"
   ]
  },
  {
   "cell_type": "code",
   "execution_count": 1063,
   "metadata": {},
   "outputs": [
    {
     "data": {
      "text/html": [
       "<div>\n",
       "<style>\n",
       "    .dataframe thead tr:only-child th {\n",
       "        text-align: right;\n",
       "    }\n",
       "\n",
       "    .dataframe thead th {\n",
       "        text-align: left;\n",
       "    }\n",
       "\n",
       "    .dataframe tbody tr th {\n",
       "        vertical-align: top;\n",
       "    }\n",
       "</style>\n",
       "<table border=\"1\" class=\"dataframe\">\n",
       "  <thead>\n",
       "    <tr style=\"text-align: right;\">\n",
       "      <th></th>\n",
       "      <th>Id</th>\n",
       "      <th>PID</th>\n",
       "      <th>MS SubClass</th>\n",
       "      <th>MS Zoning</th>\n",
       "      <th>Lot Frontage</th>\n",
       "      <th>Lot Area</th>\n",
       "      <th>Street</th>\n",
       "      <th>Alley</th>\n",
       "      <th>Lot Shape</th>\n",
       "      <th>Land Contour</th>\n",
       "      <th>...</th>\n",
       "      <th>Pool Area</th>\n",
       "      <th>Pool QC</th>\n",
       "      <th>Fence</th>\n",
       "      <th>Misc Feature</th>\n",
       "      <th>Misc Val</th>\n",
       "      <th>Mo Sold</th>\n",
       "      <th>Yr Sold</th>\n",
       "      <th>Sale Type</th>\n",
       "      <th>Sale Condition</th>\n",
       "      <th>SalePrice</th>\n",
       "    </tr>\n",
       "  </thead>\n",
       "  <tbody>\n",
       "    <tr>\n",
       "      <th>0</th>\n",
       "      <td>109</td>\n",
       "      <td>533352170</td>\n",
       "      <td>60</td>\n",
       "      <td>RL</td>\n",
       "      <td>NaN</td>\n",
       "      <td>13517</td>\n",
       "      <td>Pave</td>\n",
       "      <td>NaN</td>\n",
       "      <td>IR1</td>\n",
       "      <td>Lvl</td>\n",
       "      <td>...</td>\n",
       "      <td>0</td>\n",
       "      <td>NaN</td>\n",
       "      <td>NaN</td>\n",
       "      <td>NaN</td>\n",
       "      <td>0</td>\n",
       "      <td>3</td>\n",
       "      <td>2010</td>\n",
       "      <td>WD</td>\n",
       "      <td>Normal</td>\n",
       "      <td>130500</td>\n",
       "    </tr>\n",
       "    <tr>\n",
       "      <th>1</th>\n",
       "      <td>544</td>\n",
       "      <td>531379050</td>\n",
       "      <td>60</td>\n",
       "      <td>RL</td>\n",
       "      <td>43.0</td>\n",
       "      <td>11492</td>\n",
       "      <td>Pave</td>\n",
       "      <td>NaN</td>\n",
       "      <td>IR1</td>\n",
       "      <td>Lvl</td>\n",
       "      <td>...</td>\n",
       "      <td>0</td>\n",
       "      <td>NaN</td>\n",
       "      <td>NaN</td>\n",
       "      <td>NaN</td>\n",
       "      <td>0</td>\n",
       "      <td>4</td>\n",
       "      <td>2009</td>\n",
       "      <td>WD</td>\n",
       "      <td>Normal</td>\n",
       "      <td>220000</td>\n",
       "    </tr>\n",
       "    <tr>\n",
       "      <th>2</th>\n",
       "      <td>153</td>\n",
       "      <td>535304180</td>\n",
       "      <td>20</td>\n",
       "      <td>RL</td>\n",
       "      <td>68.0</td>\n",
       "      <td>7922</td>\n",
       "      <td>Pave</td>\n",
       "      <td>NaN</td>\n",
       "      <td>Reg</td>\n",
       "      <td>Lvl</td>\n",
       "      <td>...</td>\n",
       "      <td>0</td>\n",
       "      <td>NaN</td>\n",
       "      <td>NaN</td>\n",
       "      <td>NaN</td>\n",
       "      <td>0</td>\n",
       "      <td>1</td>\n",
       "      <td>2010</td>\n",
       "      <td>WD</td>\n",
       "      <td>Abnorml</td>\n",
       "      <td>109000</td>\n",
       "    </tr>\n",
       "  </tbody>\n",
       "</table>\n",
       "<p>3 rows × 82 columns</p>\n",
       "</div>"
      ],
      "text/plain": [
       "    Id        PID  MS SubClass MS Zoning  Lot Frontage  Lot Area Street Alley  \\\n",
       "0  109  533352170           60        RL           NaN     13517   Pave   NaN   \n",
       "1  544  531379050           60        RL          43.0     11492   Pave   NaN   \n",
       "2  153  535304180           20        RL          68.0      7922   Pave   NaN   \n",
       "\n",
       "  Lot Shape Land Contour    ...     Pool Area Pool QC Fence Misc Feature  \\\n",
       "0       IR1          Lvl    ...             0     NaN   NaN          NaN   \n",
       "1       IR1          Lvl    ...             0     NaN   NaN          NaN   \n",
       "2       Reg          Lvl    ...             0     NaN   NaN          NaN   \n",
       "\n",
       "  Misc Val Mo Sold Yr Sold Sale Type  Sale Condition  SalePrice  \n",
       "0        0       3    2010       WD           Normal     130500  \n",
       "1        0       4    2009       WD           Normal     220000  \n",
       "2        0       1    2010       WD          Abnorml     109000  \n",
       "\n",
       "[3 rows x 82 columns]"
      ]
     },
     "execution_count": 1063,
     "metadata": {},
     "output_type": "execute_result"
    }
   ],
   "source": [
    "train = pd.read_csv('train.csv')\n",
    "train.head(3)"
   ]
  },
  {
   "cell_type": "code",
   "execution_count": 1064,
   "metadata": {},
   "outputs": [
    {
     "data": {
      "text/html": [
       "<div>\n",
       "<style>\n",
       "    .dataframe thead tr:only-child th {\n",
       "        text-align: right;\n",
       "    }\n",
       "\n",
       "    .dataframe thead th {\n",
       "        text-align: left;\n",
       "    }\n",
       "\n",
       "    .dataframe tbody tr th {\n",
       "        vertical-align: top;\n",
       "    }\n",
       "</style>\n",
       "<table border=\"1\" class=\"dataframe\">\n",
       "  <thead>\n",
       "    <tr style=\"text-align: right;\">\n",
       "      <th></th>\n",
       "      <th>Id</th>\n",
       "      <th>PID</th>\n",
       "      <th>MS SubClass</th>\n",
       "      <th>MS Zoning</th>\n",
       "      <th>Lot Frontage</th>\n",
       "      <th>Lot Area</th>\n",
       "      <th>Street</th>\n",
       "      <th>Alley</th>\n",
       "      <th>Lot Shape</th>\n",
       "      <th>Land Contour</th>\n",
       "      <th>...</th>\n",
       "      <th>3Ssn Porch</th>\n",
       "      <th>Screen Porch</th>\n",
       "      <th>Pool Area</th>\n",
       "      <th>Pool QC</th>\n",
       "      <th>Fence</th>\n",
       "      <th>Misc Feature</th>\n",
       "      <th>Misc Val</th>\n",
       "      <th>Mo Sold</th>\n",
       "      <th>Yr Sold</th>\n",
       "      <th>Sale Type</th>\n",
       "    </tr>\n",
       "  </thead>\n",
       "  <tbody>\n",
       "    <tr>\n",
       "      <th>0</th>\n",
       "      <td>2658</td>\n",
       "      <td>902301120</td>\n",
       "      <td>190</td>\n",
       "      <td>RM</td>\n",
       "      <td>69.0</td>\n",
       "      <td>9142</td>\n",
       "      <td>Pave</td>\n",
       "      <td>Grvl</td>\n",
       "      <td>Reg</td>\n",
       "      <td>Lvl</td>\n",
       "      <td>...</td>\n",
       "      <td>0</td>\n",
       "      <td>0</td>\n",
       "      <td>0</td>\n",
       "      <td>NaN</td>\n",
       "      <td>NaN</td>\n",
       "      <td>NaN</td>\n",
       "      <td>0</td>\n",
       "      <td>4</td>\n",
       "      <td>2006</td>\n",
       "      <td>WD</td>\n",
       "    </tr>\n",
       "    <tr>\n",
       "      <th>1</th>\n",
       "      <td>2718</td>\n",
       "      <td>905108090</td>\n",
       "      <td>90</td>\n",
       "      <td>RL</td>\n",
       "      <td>NaN</td>\n",
       "      <td>9662</td>\n",
       "      <td>Pave</td>\n",
       "      <td>NaN</td>\n",
       "      <td>IR1</td>\n",
       "      <td>Lvl</td>\n",
       "      <td>...</td>\n",
       "      <td>0</td>\n",
       "      <td>0</td>\n",
       "      <td>0</td>\n",
       "      <td>NaN</td>\n",
       "      <td>NaN</td>\n",
       "      <td>NaN</td>\n",
       "      <td>0</td>\n",
       "      <td>8</td>\n",
       "      <td>2006</td>\n",
       "      <td>WD</td>\n",
       "    </tr>\n",
       "    <tr>\n",
       "      <th>2</th>\n",
       "      <td>2414</td>\n",
       "      <td>528218130</td>\n",
       "      <td>60</td>\n",
       "      <td>RL</td>\n",
       "      <td>58.0</td>\n",
       "      <td>17104</td>\n",
       "      <td>Pave</td>\n",
       "      <td>NaN</td>\n",
       "      <td>IR1</td>\n",
       "      <td>Lvl</td>\n",
       "      <td>...</td>\n",
       "      <td>0</td>\n",
       "      <td>0</td>\n",
       "      <td>0</td>\n",
       "      <td>NaN</td>\n",
       "      <td>NaN</td>\n",
       "      <td>NaN</td>\n",
       "      <td>0</td>\n",
       "      <td>9</td>\n",
       "      <td>2006</td>\n",
       "      <td>New</td>\n",
       "    </tr>\n",
       "  </tbody>\n",
       "</table>\n",
       "<p>3 rows × 80 columns</p>\n",
       "</div>"
      ],
      "text/plain": [
       "     Id        PID  MS SubClass MS Zoning  Lot Frontage  Lot Area Street  \\\n",
       "0  2658  902301120          190        RM          69.0      9142   Pave   \n",
       "1  2718  905108090           90        RL           NaN      9662   Pave   \n",
       "2  2414  528218130           60        RL          58.0     17104   Pave   \n",
       "\n",
       "  Alley Lot Shape Land Contour    ...     3Ssn Porch Screen Porch Pool Area  \\\n",
       "0  Grvl       Reg          Lvl    ...              0            0         0   \n",
       "1   NaN       IR1          Lvl    ...              0            0         0   \n",
       "2   NaN       IR1          Lvl    ...              0            0         0   \n",
       "\n",
       "  Pool QC Fence Misc Feature Misc Val Mo Sold  Yr Sold  Sale Type  \n",
       "0     NaN   NaN          NaN        0       4     2006        WD   \n",
       "1     NaN   NaN          NaN        0       8     2006        WD   \n",
       "2     NaN   NaN          NaN        0       9     2006        New  \n",
       "\n",
       "[3 rows x 80 columns]"
      ]
     },
     "execution_count": 1064,
     "metadata": {},
     "output_type": "execute_result"
    }
   ],
   "source": [
    "test = pd.read_csv('test.csv')\n",
    "test.head(3)"
   ]
  },
  {
   "cell_type": "markdown",
   "metadata": {},
   "source": [
    "# // Basic EDA //"
   ]
  },
  {
   "cell_type": "code",
   "execution_count": 1065,
   "metadata": {
    "collapsed": true
   },
   "outputs": [],
   "source": [
    "# First I want the column names to be uniformly formatted just for consistency.\n",
    "\n",
    "train.rename(columns= {col: col.lower().replace(' ','_') for col in train.columns}, inplace=True)\n",
    "test.rename(columns= {col: col.lower().replace(' ','_') for col in test.columns}, inplace=True)"
   ]
  },
  {
   "cell_type": "code",
   "execution_count": 1066,
   "metadata": {},
   "outputs": [
    {
     "data": {
      "text/plain": [
       "Index(['id', 'pid', 'ms_subclass', 'ms_zoning', 'lot_frontage', 'lot_area',\n",
       "       'street', 'alley', 'lot_shape', 'land_contour', 'utilities',\n",
       "       'lot_config', 'land_slope', 'neighborhood', 'condition_1',\n",
       "       'condition_2', 'bldg_type', 'house_style', 'overall_qual',\n",
       "       'overall_cond', 'year_built', 'year_remod/add', 'roof_style',\n",
       "       'roof_matl', 'exterior_1st', 'exterior_2nd', 'mas_vnr_type',\n",
       "       'mas_vnr_area', 'exter_qual', 'exter_cond', 'foundation', 'bsmt_qual',\n",
       "       'bsmt_cond', 'bsmt_exposure', 'bsmtfin_type_1', 'bsmtfin_sf_1',\n",
       "       'bsmtfin_type_2', 'bsmtfin_sf_2', 'bsmt_unf_sf', 'total_bsmt_sf',\n",
       "       'heating', 'heating_qc', 'central_air', 'electrical', '1st_flr_sf',\n",
       "       '2nd_flr_sf', 'low_qual_fin_sf', 'gr_liv_area', 'bsmt_full_bath',\n",
       "       'bsmt_half_bath', 'full_bath', 'half_bath', 'bedroom_abvgr',\n",
       "       'kitchen_abvgr', 'kitchen_qual', 'totrms_abvgrd', 'functional',\n",
       "       'fireplaces', 'fireplace_qu', 'garage_type', 'garage_yr_blt',\n",
       "       'garage_finish', 'garage_cars', 'garage_area', 'garage_qual',\n",
       "       'garage_cond', 'paved_drive', 'wood_deck_sf', 'open_porch_sf',\n",
       "       'enclosed_porch', '3ssn_porch', 'screen_porch', 'pool_area', 'pool_qc',\n",
       "       'fence', 'misc_feature', 'misc_val', 'mo_sold', 'yr_sold', 'sale_type',\n",
       "       'sale_condition', 'saleprice'],\n",
       "      dtype='object')"
      ]
     },
     "execution_count": 1066,
     "metadata": {},
     "output_type": "execute_result"
    }
   ],
   "source": [
    "train.columns"
   ]
  },
  {
   "cell_type": "code",
   "execution_count": 1067,
   "metadata": {},
   "outputs": [
    {
     "data": {
      "text/plain": [
       "(2051, 82)"
      ]
     },
     "execution_count": 1067,
     "metadata": {},
     "output_type": "execute_result"
    }
   ],
   "source": [
    "train.shape"
   ]
  },
  {
   "cell_type": "code",
   "execution_count": 1068,
   "metadata": {},
   "outputs": [
    {
     "data": {
      "image/png": "[encoded data removed]",
      "text/plain": [
       "<matplotlib.figure.Figure at 0x1a1e0ada20>"
      ]
     },
     "metadata": {},
     "output_type": "display_data"
    }
   ],
   "source": [
    "sns.distplot(train.saleprice);\n",
    "# Hmm, seems pretty skewed, I'll deal with that later"
   ]
  },
  {
   "cell_type": "markdown",
   "metadata": {},
   "source": [
    "# // Feature Cleaning and Manipulation //"
   ]
  },
  {
   "cell_type": "markdown",
   "metadata": {},
   "source": [
    "### _I'll start by dealing with null values first_:"
   ]
  },
  {
   "cell_type": "code",
   "execution_count": 1069,
   "metadata": {},
   "outputs": [],
   "source": [
    "train.isnull().sum().sort_values(ascending = False)[0:27];"
   ]
  },
  {
   "cell_type": "code",
   "execution_count": 1070,
   "metadata": {},
   "outputs": [],
   "source": [
    "train.pool_qc.value_counts();"
   ]
  },
  {
   "cell_type": "code",
   "execution_count": 1071,
   "metadata": {},
   "outputs": [],
   "source": [
    "poolqc_encoder = {\n",
    "    'Gd': 'Gd',\n",
    "    'TA': 'TA',\n",
    "    'Fa': 'Fa',\n",
    "    'Ex': 'Ex',\n",
    "    np.nan: 'NA'\n",
    "}\n",
    "train['pool_qc'] = train['pool_qc'].map(poolqc_encoder)"
   ]
  },
  {
   "cell_type": "code",
   "execution_count": 1072,
   "metadata": {
    "scrolled": true
   },
   "outputs": [],
   "source": [
    "train.misc_feature.value_counts();"
   ]
  },
  {
   "cell_type": "code",
   "execution_count": 1073,
   "metadata": {},
   "outputs": [],
   "source": [
    "misc_feature_encoder = {\n",
    "    'Shed': 'Shed',\n",
    "    'Gar2': 'Gar2',\n",
    "    'Othr': 'Othr',\n",
    "    'Elev': 'Elev',\n",
    "    'TenC': 'TenC',\n",
    "    'NA': 'NA',\n",
    "    np.nan: 'NA'\n",
    "}\n",
    "train['misc_feature'] = train['misc_feature'].map(misc_feature_encoder)"
   ]
  },
  {
   "cell_type": "code",
   "execution_count": 1074,
   "metadata": {},
   "outputs": [],
   "source": [
    "train.alley.value_counts();"
   ]
  },
  {
   "cell_type": "code",
   "execution_count": 1075,
   "metadata": {
    "collapsed": true
   },
   "outputs": [],
   "source": [
    "alley_encoder = {\n",
    "    'Grvl': 'Grvl',\n",
    "    'Pave': 'Pave',\n",
    "    'NA': 'NA',\n",
    "    np.nan: 'NA'\n",
    "}\n",
    "train['alley'] = train['alley'].map(alley_encoder)"
   ]
  },
  {
   "cell_type": "code",
   "execution_count": 1076,
   "metadata": {},
   "outputs": [],
   "source": [
    "train.fence.value_counts();"
   ]
  },
  {
   "cell_type": "code",
   "execution_count": 1077,
   "metadata": {
    "collapsed": true
   },
   "outputs": [],
   "source": [
    "fence_encoder = {\n",
    "    'MnPrv': 'MnPrv',\n",
    "    'GdPrv': 'GdPrv',\n",
    "    'GdWo': 'GdWo',\n",
    "    'MnWw': 'MnWw',\n",
    "    np.nan: 'NA'\n",
    "}\n",
    "train['fence'] = train['fence'].map(fence_encoder)"
   ]
  },
  {
   "cell_type": "code",
   "execution_count": 1078,
   "metadata": {},
   "outputs": [],
   "source": [
    "train.fireplace_qu.value_counts();"
   ]
  },
  {
   "cell_type": "code",
   "execution_count": 1079,
   "metadata": {
    "collapsed": true
   },
   "outputs": [],
   "source": [
    "fireplacequ_encoder = {\n",
    "    'Gd': 'Gd',\n",
    "    'TA': 'TA',\n",
    "    'Fa': 'Fa',\n",
    "    'Ex': 'Ex',\n",
    "    'Po': 'Po',\n",
    "    np.nan: 'NA'\n",
    "}\n",
    "train['fireplace_qu'] = train['fireplace_qu'].map(fireplacequ_encoder)\n",
    "train['garage_cond'] = train['garage_cond'].map(fireplacequ_encoder)\n",
    "train['garage_qual'] = train['garage_qual'].map(fireplacequ_encoder)\n",
    "train['bsmt_cond'] = train['bsmt_cond'].map(fireplacequ_encoder)\n",
    "train['bsmt_qual'] = train['bsmt_qual'].map(fireplacequ_encoder)"
   ]
  },
  {
   "cell_type": "code",
   "execution_count": 1080,
   "metadata": {
    "scrolled": true
   },
   "outputs": [],
   "source": [
    "train.garage_cond.value_counts();"
   ]
  },
  {
   "cell_type": "code",
   "execution_count": 1081,
   "metadata": {
    "scrolled": true
   },
   "outputs": [],
   "source": [
    "train.garage_qual.value_counts();"
   ]
  },
  {
   "cell_type": "code",
   "execution_count": 1082,
   "metadata": {
    "collapsed": true
   },
   "outputs": [],
   "source": [
    "# Next up is lot_frontage, let's take a look at other places in the similar neighborhood."
   ]
  },
  {
   "cell_type": "code",
   "execution_count": 1083,
   "metadata": {},
   "outputs": [],
   "source": [
    "neigh_frontage_means = train.groupby('neighborhood')['lot_frontage'].mean().to_dict()"
   ]
  },
  {
   "cell_type": "code",
   "execution_count": 1084,
   "metadata": {},
   "outputs": [
    {
     "data": {
      "text/plain": [
       "47.25"
      ]
     },
     "execution_count": 1084,
     "metadata": {},
     "output_type": "execute_result"
    }
   ],
   "source": [
    "neigh_frontage_means['Blmngtn']"
   ]
  },
  {
   "cell_type": "code",
   "execution_count": 1085,
   "metadata": {},
   "outputs": [],
   "source": [
    "train['lot_frontage'].head(20);"
   ]
  },
  {
   "cell_type": "code",
   "execution_count": 1086,
   "metadata": {
    "collapsed": true
   },
   "outputs": [],
   "source": [
    "[imputer(cell) for cell in train['neighborhood']];"
   ]
  },
  {
   "cell_type": "code",
   "execution_count": 1087,
   "metadata": {},
   "outputs": [],
   "source": [
    "def imputer(cell):\n",
    "    try:\n",
    "        new_cell = neigh_frontage_means[cell]\n",
    "        return new_cell\n",
    "    except:\n",
    "        pass"
   ]
  },
  {
   "cell_type": "code",
   "execution_count": 1088,
   "metadata": {},
   "outputs": [
    {
     "data": {
      "text/plain": [
       "27.666666666666668"
      ]
     },
     "execution_count": 1088,
     "metadata": {},
     "output_type": "execute_result"
    }
   ],
   "source": [
    "neigh_frontage_means['Blueste']"
   ]
  },
  {
   "cell_type": "code",
   "execution_count": 1089,
   "metadata": {},
   "outputs": [],
   "source": [
    "# Imputing missing lot_frontage values with the average neghborhood one in their area.\n",
    "train['lot_frontage'] = train.apply(lambda x: neigh_frontage_means[x.neighborhood] if np.isnan(x.lot_frontage) else x.lot_frontage, axis=1)"
   ]
  },
  {
   "cell_type": "code",
   "execution_count": 1090,
   "metadata": {},
   "outputs": [],
   "source": [
    "# Still have a couple NaN's, let's decide on what to do...\n",
    "# Mean and median are very close so I'll do the mean.\n",
    "train.lot_frontage.fillna(train.lot_frontage.mean(), inplace=True)"
   ]
  },
  {
   "cell_type": "code",
   "execution_count": 1091,
   "metadata": {},
   "outputs": [],
   "source": [
    "train.lot_frontage.value_counts();"
   ]
  },
  {
   "cell_type": "code",
   "execution_count": 1092,
   "metadata": {
    "collapsed": true
   },
   "outputs": [],
   "source": [
    "garage_finish_encoder = {\n",
    "    'Fin': 'Fin',\n",
    "    'RFn': 'RFn',\n",
    "    'Unf': 'Unf',\n",
    "    np.nan: 'NA'\n",
    "}\n",
    "train['garage_finish'] = train['garage_finish'].map(garage_finish_encoder)"
   ]
  },
  {
   "cell_type": "code",
   "execution_count": 1093,
   "metadata": {},
   "outputs": [],
   "source": [
    "train.garage_finish.value_counts();"
   ]
  },
  {
   "cell_type": "code",
   "execution_count": 1094,
   "metadata": {},
   "outputs": [
    {
     "data": {
      "text/plain": [
       "1699    2207.0\n",
       "Name: garage_yr_blt, dtype: float64"
      ]
     },
     "execution_count": 1094,
     "metadata": {},
     "output_type": "execute_result"
    }
   ],
   "source": [
    "# Noticed this weird thing while doing the groupby below:\n",
    "train.loc[train.garage_yr_blt > 2018, :]['garage_yr_blt']"
   ]
  },
  {
   "cell_type": "code",
   "execution_count": 1095,
   "metadata": {},
   "outputs": [],
   "source": [
    "# Going to just drop that row:\n",
    "train.drop(1699, inplace=True)"
   ]
  },
  {
   "cell_type": "code",
   "execution_count": 1096,
   "metadata": {},
   "outputs": [],
   "source": [
    "# Want to impute with that same method as above\n",
    "grgyr_yrblt_means = train.groupby('year_built')['garage_yr_blt'].mean().to_dict()"
   ]
  },
  {
   "cell_type": "code",
   "execution_count": 1097,
   "metadata": {},
   "outputs": [],
   "source": [
    "train['garage_yr_blt'] = train.apply(lambda x: grgyr_yrblt_means[x.year_built] if np.isnan(x.garage_yr_blt) else x.garage_yr_blt, axis=1)"
   ]
  },
  {
   "cell_type": "code",
   "execution_count": 1098,
   "metadata": {},
   "outputs": [],
   "source": [
    "# So somehow this still resulted in like 6 NaN's... what to do with them?\n",
    "# Looks like the mean and median are both very close, I'll just impute it with mean.\n",
    "train.garage_yr_blt.fillna(train.garage_yr_blt.mean(), inplace=True)"
   ]
  },
  {
   "cell_type": "code",
   "execution_count": 1099,
   "metadata": {},
   "outputs": [],
   "source": [
    "train.garage_type.value_counts();"
   ]
  },
  {
   "cell_type": "code",
   "execution_count": 1100,
   "metadata": {
    "collapsed": true
   },
   "outputs": [],
   "source": [
    "garage_type_encoder = {\n",
    "    'Attchd': 'Attchd',\n",
    "    'Detchd': 'Detchd',\n",
    "    'BuiltIn': 'BuiltIn',\n",
    "    'Basment': 'Basment',\n",
    "    '2Types': '2Types',\n",
    "    'CarPort': 'CarPort',\n",
    "    np.nan: 'NA'\n",
    "}\n",
    "train['garage_type'] = train['garage_type'].map(garage_type_encoder)"
   ]
  },
  {
   "cell_type": "code",
   "execution_count": 1101,
   "metadata": {},
   "outputs": [],
   "source": [
    "train.bsmt_exposure.value_counts();"
   ]
  },
  {
   "cell_type": "code",
   "execution_count": 1102,
   "metadata": {
    "collapsed": true
   },
   "outputs": [],
   "source": [
    "bsmt_exp_encoder = {\n",
    "    'No': 'No',\n",
    "    'Av': 'Av',\n",
    "    'Gd': 'Gd',\n",
    "    'Mn': 'Mn',\n",
    "    np.nan: 'NA'\n",
    "}\n",
    "train['bsmt_exposure'] = train['bsmt_exposure'].map(bsmt_exp_encoder)"
   ]
  },
  {
   "cell_type": "code",
   "execution_count": 1103,
   "metadata": {},
   "outputs": [],
   "source": [
    "train.bsmtfin_type_2.value_counts();"
   ]
  },
  {
   "cell_type": "code",
   "execution_count": 1104,
   "metadata": {
    "collapsed": true
   },
   "outputs": [],
   "source": [
    "bsmt_fin_encoder = {\n",
    "    'GLQ': 'GLQ',\n",
    "    'ALQ': 'ALQ',\n",
    "    'BLQ': 'BLQ',\n",
    "    'Rec': 'Rec',\n",
    "    'LwQ': 'LwQ',\n",
    "    'Unf': 'Unf',\n",
    "    np.nan: 'NA'\n",
    "}\n",
    "train['bsmtfin_type_1'] = train['bsmtfin_type_1'].map(bsmt_fin_encoder)\n",
    "train['bsmtfin_type_2'] = train['bsmtfin_type_2'].map(bsmt_fin_encoder)"
   ]
  },
  {
   "cell_type": "code",
   "execution_count": 1105,
   "metadata": {},
   "outputs": [],
   "source": [
    "train.mas_vnr_type.value_counts();"
   ]
  },
  {
   "cell_type": "code",
   "execution_count": 1106,
   "metadata": {
    "collapsed": true
   },
   "outputs": [],
   "source": [
    "mas_vnr_encoder = {\n",
    "    'BrkCmn': 'BrkCmn',\n",
    "    'BrkFace': 'BrkFace',\n",
    "    'Stone': 'Stone',\n",
    "    'CBlock': 'CBlock',\n",
    "    'None': 'NA',\n",
    "    np.nan: 'NA'\n",
    "}\n",
    "train['mas_vnr_type'] = train['mas_vnr_type'].map(mas_vnr_encoder)"
   ]
  },
  {
   "cell_type": "code",
   "execution_count": 1107,
   "metadata": {},
   "outputs": [],
   "source": [
    "# Yes, it may not make much of a difference but I'm going to impute, damn it!\n",
    "vnr_dict = train.groupby('mas_vnr_type')['mas_vnr_area'].mean().to_dict()"
   ]
  },
  {
   "cell_type": "code",
   "execution_count": 1108,
   "metadata": {},
   "outputs": [],
   "source": [
    "train['mas_vnr_area'] = train.apply(lambda x: vnr_dict[x.mas_vnr_type] if np.isnan(x.mas_vnr_area) else x.mas_vnr_area, axis=1)"
   ]
  },
  {
   "cell_type": "code",
   "execution_count": 1109,
   "metadata": {},
   "outputs": [],
   "source": [
    "train.bsmt_full_bath.fillna(train.bsmt_full_bath.median(), inplace=True)\n",
    "\n",
    "train.bsmt_half_bath.fillna(train.bsmt_half_bath.median(), inplace=True)\n",
    "\n",
    "train.total_bsmt_sf.fillna(train.total_bsmt_sf.median(), inplace=True)\n",
    "\n",
    "train.bsmtfin_sf_2.fillna(train.bsmtfin_sf_2.median(), inplace=True)\n",
    "train.bsmt_unf_sf.fillna(train.bsmt_unf_sf.median(), inplace=True)\n",
    "train.bsmtfin_sf_1.fillna(train.bsmtfin_sf_1.median(), inplace=True)\n",
    "train.garage_cars.fillna(train.garage_cars.median(), inplace=True)\n",
    "train.garage_area.fillna(train.garage_area.median(), inplace=True)"
   ]
  },
  {
   "cell_type": "code",
   "execution_count": 1110,
   "metadata": {},
   "outputs": [],
   "source": [
    "train.isnull().sum().sort_values(ascending = False);\n",
    "# No more nulls! Only had to go totally insane to get there!"
   ]
  },
  {
   "cell_type": "markdown",
   "metadata": {},
   "source": [
    "### _Making ordinal categories:_"
   ]
  },
  {
   "cell_type": "code",
   "execution_count": 1111,
   "metadata": {
    "collapsed": true
   },
   "outputs": [],
   "source": [
    "simple_qual_encoded = {\n",
    "    'Ex': 5,\n",
    "    'Gd': 4,\n",
    "    'TA': 3,\n",
    "    'Fa': 2,\n",
    "    'Po': 1,\n",
    "    'NA': 0,\n",
    "    np.nan: 0\n",
    "}\n",
    "\n",
    "train['exter_qual'] = train['exter_qual'].map(simple_qual_encoded)\n",
    "train['exter_cond'] = train['exter_cond'].map(simple_qual_encoded)\n",
    "train['bsmt_qual'] = train['bsmt_qual'].map(simple_qual_encoded)\n",
    "train['bsmt_cond'] = train['bsmt_cond'].map(simple_qual_encoded)\n",
    "train['heating_qc'] = train['heating_qc'].map(simple_qual_encoded)\n",
    "train['kitchen_qual'] = train['kitchen_qual'].map(simple_qual_encoded)\n",
    "train['fireplace_qu'] = train['fireplace_qu'].map(simple_qual_encoded)\n",
    "train['garage_qual'] = train['garage_qual'].map(simple_qual_encoded)\n",
    "train['garage_cond'] = train['garage_cond'].map(simple_qual_encoded)\n",
    "train['pool_qc'] = train['pool_qc'].map(simple_qual_encoded)"
   ]
  },
  {
   "cell_type": "code",
   "execution_count": 1112,
   "metadata": {},
   "outputs": [],
   "source": [
    "centralair_encoded = {\n",
    "    'Y': 1,\n",
    "    'N': 0\n",
    "}\n",
    "train['central_air'] = train['central_air'].map(centralair_encoded)"
   ]
  },
  {
   "cell_type": "code",
   "execution_count": 1113,
   "metadata": {},
   "outputs": [],
   "source": [
    "functional_encoded = {\n",
    "    'Typ':7,\n",
    "    'Min1':6,\n",
    "    'Min2':5,\n",
    "    'Mod':4,\n",
    "    'Maj1':3,\n",
    "    'Maj2':2,\n",
    "    'Sev':1,\n",
    "    'Sal': 0\n",
    "}\n",
    "train['functional'] = train['functional'].map(functional_encoded)"
   ]
  },
  {
   "cell_type": "code",
   "execution_count": 1114,
   "metadata": {},
   "outputs": [],
   "source": [
    "train.garage_finish.value_counts();"
   ]
  },
  {
   "cell_type": "code",
   "execution_count": 1115,
   "metadata": {
    "collapsed": true
   },
   "outputs": [],
   "source": [
    "garage_finish_encoded = {\n",
    "    'Fin': 3,\n",
    "    'Rfn': 2,\n",
    "    'Unf': 1,\n",
    "    'NA': 0\n",
    "}\n",
    "train['garage_finish'] = train['garage_finish'].map(garage_finish_encoded)"
   ]
  },
  {
   "cell_type": "code",
   "execution_count": 1116,
   "metadata": {
    "collapsed": true
   },
   "outputs": [],
   "source": [
    "# Those are really the only ones where I can say I feel slam dunk sure in assigning them an\n",
    "# ordinal ranking. All of the other ones could *potentially* have some form of ambiguity."
   ]
  },
  {
   "cell_type": "markdown",
   "metadata": {},
   "source": [
    "### _Making nominal categories aka one-hot-encoding aka dummies:_"
   ]
  },
  {
   "cell_type": "code",
   "execution_count": 1117,
   "metadata": {},
   "outputs": [],
   "source": [
    "train['ms_subclass'] = train['ms_subclass'].astype('category')\n",
    "train = pd.get_dummies(train, columns = ['ms_subclass'], drop_first = True)\n",
    "\n",
    "train['ms_zoning'] = train['ms_zoning'].astype('category')\n",
    "train = pd.get_dummies(train, columns = ['ms_zoning'], drop_first = True)\n",
    "\n",
    "train['street'] = train['street'].astype('category')\n",
    "train = pd.get_dummies(train, columns = ['street'], drop_first = True)\n",
    "\n",
    "train['alley'] = train['alley'].astype('category')\n",
    "train = pd.get_dummies(train, columns = ['alley'], drop_first = True)\n",
    "\n",
    "train['lot_shape'] = train['lot_shape'].astype('category')\n",
    "train = pd.get_dummies(train, columns = ['lot_shape'], drop_first = True)\n",
    "\n",
    "train['land_contour'] = train['land_contour'].astype('category')\n",
    "train = pd.get_dummies(train, columns = ['land_contour'], drop_first = True)\n",
    "\n",
    "train['utilities'] = train['utilities'].astype('category')\n",
    "train = pd.get_dummies(train, columns = ['utilities'], drop_first = True)\n",
    "\n",
    "train['lot_config'] = train['lot_config'].astype('category')\n",
    "train = pd.get_dummies(train, columns = ['lot_config'], drop_first = True)\n",
    "\n",
    "train['land_slope'] = train['land_slope'].astype('category')\n",
    "train = pd.get_dummies(train, columns = ['land_slope'], drop_first = True)\n",
    "\n",
    "train['neighborhood'] = train['neighborhood'].astype('category')\n",
    "train = pd.get_dummies(train, columns = ['neighborhood'], drop_first = True)\n",
    "\n",
    "train['condition_1'] = train['condition_1'].astype('category')\n",
    "train = pd.get_dummies(train, columns = ['condition_1'], drop_first = True)\n",
    "\n",
    "train['condition_2'] = train['condition_2'].astype('category')\n",
    "train = pd.get_dummies(train, columns = ['condition_2'], drop_first = True)\n",
    "\n",
    "train['bldg_type'] = train['bldg_type'].astype('category')\n",
    "train = pd.get_dummies(train, columns = ['bldg_type'], drop_first = True)\n",
    "\n",
    "train['house_style'] = train['house_style'].astype('category')\n",
    "train = pd.get_dummies(train, columns = ['house_style'], drop_first = True)\n",
    "\n",
    "train['roof_style'] = train['roof_style'].astype('category')\n",
    "train = pd.get_dummies(train, columns = ['roof_style'], drop_first = True)\n",
    "\n",
    "train['roof_matl'] = train['roof_matl'].astype('category')\n",
    "train = pd.get_dummies(train, columns = ['roof_matl'], drop_first = True)\n",
    "\n",
    "train['exterior_1st'] = train['exterior_1st'].astype('category')\n",
    "train = pd.get_dummies(train, columns = ['exterior_1st'], drop_first = True)\n",
    "\n",
    "train['exterior_2nd'] = train['exterior_2nd'].astype('category')\n",
    "train = pd.get_dummies(train, columns = ['exterior_2nd'], drop_first = True)\n",
    "\n",
    "train['mas_vnr_type'] = train['mas_vnr_type'].astype('category')\n",
    "train = pd.get_dummies(train, columns = ['mas_vnr_type'], drop_first = True)\n",
    "\n",
    "train['foundation'] = train['foundation'].astype('category')\n",
    "train = pd.get_dummies(train, columns = ['foundation'], drop_first = True)\n",
    "\n",
    "train['bsmt_exposure'] = train['bsmt_exposure'].astype('category')\n",
    "train = pd.get_dummies(train, columns = ['bsmt_exposure'], drop_first = True)\n",
    "\n",
    "train['bsmtfin_type_1'] = train['bsmtfin_type_1'].astype('category')\n",
    "train = pd.get_dummies(train, columns = ['bsmtfin_type_1'], drop_first = True)\n",
    "\n",
    "train['bsmtfin_type_2'] = train['bsmtfin_type_2'].astype('category')\n",
    "train = pd.get_dummies(train, columns = ['bsmtfin_type_2'], drop_first = True)\n",
    "\n",
    "train['heating'] = train['heating'].astype('category')\n",
    "train = pd.get_dummies(train, columns = ['heating'], drop_first = True)\n",
    "\n",
    "train['electrical'] = train['electrical'].astype('category')\n",
    "train = pd.get_dummies(train, columns = ['electrical'], drop_first = True)\n",
    "\n",
    "train['garage_type'] = train['garage_type'].astype('category')\n",
    "train = pd.get_dummies(train, columns = ['garage_type'], drop_first = True)\n",
    "\n",
    "train['paved_drive'] = train['paved_drive'].astype('category')\n",
    "train = pd.get_dummies(train, columns = ['paved_drive'], drop_first = True)\n",
    "\n",
    "train['fence'] = train['fence'].astype('category')\n",
    "train = pd.get_dummies(train, columns = ['fence'], drop_first = True)\n",
    "\n",
    "train['misc_feature'] = train['misc_feature'].astype('category')\n",
    "train = pd.get_dummies(train, columns = ['misc_feature'], drop_first = True)"
   ]
  },
  {
   "cell_type": "markdown",
   "metadata": {},
   "source": [
    "### _Outlier hunting_:"
   ]
  },
  {
   "cell_type": "code",
   "execution_count": 1118,
   "metadata": {},
   "outputs": [
    {
     "data": {
      "image/png": "[encoded data removed]",
      "text/plain": [
       "<matplotlib.figure.Figure at 0x1a20225f28>"
      ]
     },
     "metadata": {},
     "output_type": "display_data"
    }
   ],
   "source": [
    "sns.regplot(train.lot_frontage , train.saleprice, train);"
   ]
  },
  {
   "cell_type": "code",
   "execution_count": 1119,
   "metadata": {},
   "outputs": [
    {
     "data": {
      "text/html": [
       "<div>\n",
       "<style>\n",
       "    .dataframe thead tr:only-child th {\n",
       "        text-align: right;\n",
       "    }\n",
       "\n",
       "    .dataframe thead th {\n",
       "        text-align: left;\n",
       "    }\n",
       "\n",
       "    .dataframe tbody tr th {\n",
       "        vertical-align: top;\n",
       "    }\n",
       "</style>\n",
       "<table border=\"1\" class=\"dataframe\">\n",
       "  <thead>\n",
       "    <tr style=\"text-align: right;\">\n",
       "      <th></th>\n",
       "      <th>id</th>\n",
       "      <th>pid</th>\n",
       "      <th>lot_frontage</th>\n",
       "      <th>lot_area</th>\n",
       "      <th>overall_qual</th>\n",
       "      <th>overall_cond</th>\n",
       "      <th>year_built</th>\n",
       "      <th>year_remod/add</th>\n",
       "      <th>mas_vnr_area</th>\n",
       "      <th>exter_qual</th>\n",
       "      <th>...</th>\n",
       "      <th>paved_drive_Y</th>\n",
       "      <th>fence_GdWo</th>\n",
       "      <th>fence_MnPrv</th>\n",
       "      <th>fence_MnWw</th>\n",
       "      <th>fence_NA</th>\n",
       "      <th>misc_feature_Gar2</th>\n",
       "      <th>misc_feature_NA</th>\n",
       "      <th>misc_feature_Othr</th>\n",
       "      <th>misc_feature_Shed</th>\n",
       "      <th>misc_feature_TenC</th>\n",
       "    </tr>\n",
       "  </thead>\n",
       "  <tbody>\n",
       "    <tr>\n",
       "      <th>960</th>\n",
       "      <td>1499</td>\n",
       "      <td>908154235</td>\n",
       "      <td>313.0</td>\n",
       "      <td>63887</td>\n",
       "      <td>10</td>\n",
       "      <td>5</td>\n",
       "      <td>2008</td>\n",
       "      <td>2008</td>\n",
       "      <td>796.0</td>\n",
       "      <td>5</td>\n",
       "      <td>...</td>\n",
       "      <td>1</td>\n",
       "      <td>0</td>\n",
       "      <td>0</td>\n",
       "      <td>0</td>\n",
       "      <td>1</td>\n",
       "      <td>0</td>\n",
       "      <td>1</td>\n",
       "      <td>0</td>\n",
       "      <td>0</td>\n",
       "      <td>0</td>\n",
       "    </tr>\n",
       "    <tr>\n",
       "      <th>1335</th>\n",
       "      <td>1266</td>\n",
       "      <td>535427070</td>\n",
       "      <td>313.0</td>\n",
       "      <td>27650</td>\n",
       "      <td>7</td>\n",
       "      <td>7</td>\n",
       "      <td>1960</td>\n",
       "      <td>2007</td>\n",
       "      <td>0.0</td>\n",
       "      <td>3</td>\n",
       "      <td>...</td>\n",
       "      <td>1</td>\n",
       "      <td>0</td>\n",
       "      <td>0</td>\n",
       "      <td>0</td>\n",
       "      <td>1</td>\n",
       "      <td>0</td>\n",
       "      <td>1</td>\n",
       "      <td>0</td>\n",
       "      <td>0</td>\n",
       "      <td>0</td>\n",
       "    </tr>\n",
       "  </tbody>\n",
       "</table>\n",
       "<p>2 rows × 231 columns</p>\n",
       "</div>"
      ],
      "text/plain": [
       "        id        pid  lot_frontage  lot_area  overall_qual  overall_cond  \\\n",
       "960   1499  908154235         313.0     63887            10             5   \n",
       "1335  1266  535427070         313.0     27650             7             7   \n",
       "\n",
       "      year_built  year_remod/add  mas_vnr_area  exter_qual        ...          \\\n",
       "960         2008            2008         796.0           5        ...           \n",
       "1335        1960            2007           0.0           3        ...           \n",
       "\n",
       "      paved_drive_Y  fence_GdWo  fence_MnPrv  fence_MnWw  fence_NA  \\\n",
       "960               1           0            0           0         1   \n",
       "1335              1           0            0           0         1   \n",
       "\n",
       "      misc_feature_Gar2  misc_feature_NA  misc_feature_Othr  \\\n",
       "960                   0                1                  0   \n",
       "1335                  0                1                  0   \n",
       "\n",
       "      misc_feature_Shed  misc_feature_TenC  \n",
       "960                   0                  0  \n",
       "1335                  0                  0  \n",
       "\n",
       "[2 rows x 231 columns]"
      ]
     },
     "execution_count": 1119,
     "metadata": {},
     "output_type": "execute_result"
    }
   ],
   "source": [
    "train.loc[train.lot_frontage > 300, :]"
   ]
  },
  {
   "cell_type": "code",
   "execution_count": 1120,
   "metadata": {},
   "outputs": [],
   "source": [
    "train.drop([960, 1335], inplace=True)"
   ]
  },
  {
   "cell_type": "code",
   "execution_count": 1121,
   "metadata": {},
   "outputs": [
    {
     "data": {
      "image/png": "[encoded data removed]",
      "text/plain": [
       "<matplotlib.figure.Figure at 0x1a16d56da0>"
      ]
     },
     "metadata": {},
     "output_type": "display_data"
    }
   ],
   "source": [
    "sns.regplot(train.lot_area , train.saleprice, train);"
   ]
  },
  {
   "cell_type": "code",
   "execution_count": 1122,
   "metadata": {},
   "outputs": [
    {
     "data": {
      "text/html": [
       "<div>\n",
       "<style>\n",
       "    .dataframe thead tr:only-child th {\n",
       "        text-align: right;\n",
       "    }\n",
       "\n",
       "    .dataframe thead th {\n",
       "        text-align: left;\n",
       "    }\n",
       "\n",
       "    .dataframe tbody tr th {\n",
       "        vertical-align: top;\n",
       "    }\n",
       "</style>\n",
       "<table border=\"1\" class=\"dataframe\">\n",
       "  <thead>\n",
       "    <tr style=\"text-align: right;\">\n",
       "      <th></th>\n",
       "      <th>id</th>\n",
       "      <th>pid</th>\n",
       "      <th>lot_frontage</th>\n",
       "      <th>lot_area</th>\n",
       "      <th>overall_qual</th>\n",
       "      <th>overall_cond</th>\n",
       "      <th>year_built</th>\n",
       "      <th>year_remod/add</th>\n",
       "      <th>mas_vnr_area</th>\n",
       "      <th>exter_qual</th>\n",
       "      <th>...</th>\n",
       "      <th>paved_drive_Y</th>\n",
       "      <th>fence_GdWo</th>\n",
       "      <th>fence_MnPrv</th>\n",
       "      <th>fence_MnWw</th>\n",
       "      <th>fence_NA</th>\n",
       "      <th>misc_feature_Gar2</th>\n",
       "      <th>misc_feature_NA</th>\n",
       "      <th>misc_feature_Othr</th>\n",
       "      <th>misc_feature_Shed</th>\n",
       "      <th>misc_feature_TenC</th>\n",
       "    </tr>\n",
       "  </thead>\n",
       "  <tbody>\n",
       "    <tr>\n",
       "      <th>471</th>\n",
       "      <td>2116</td>\n",
       "      <td>906426060</td>\n",
       "      <td>92.5</td>\n",
       "      <td>159000</td>\n",
       "      <td>6</td>\n",
       "      <td>7</td>\n",
       "      <td>1958</td>\n",
       "      <td>2006</td>\n",
       "      <td>472.0</td>\n",
       "      <td>4</td>\n",
       "      <td>...</td>\n",
       "      <td>1</td>\n",
       "      <td>0</td>\n",
       "      <td>0</td>\n",
       "      <td>0</td>\n",
       "      <td>1</td>\n",
       "      <td>0</td>\n",
       "      <td>0</td>\n",
       "      <td>0</td>\n",
       "      <td>1</td>\n",
       "      <td>0</td>\n",
       "    </tr>\n",
       "    <tr>\n",
       "      <th>694</th>\n",
       "      <td>2072</td>\n",
       "      <td>905301050</td>\n",
       "      <td>92.5</td>\n",
       "      <td>115149</td>\n",
       "      <td>7</td>\n",
       "      <td>5</td>\n",
       "      <td>1971</td>\n",
       "      <td>2002</td>\n",
       "      <td>351.0</td>\n",
       "      <td>3</td>\n",
       "      <td>...</td>\n",
       "      <td>1</td>\n",
       "      <td>0</td>\n",
       "      <td>0</td>\n",
       "      <td>0</td>\n",
       "      <td>1</td>\n",
       "      <td>0</td>\n",
       "      <td>1</td>\n",
       "      <td>0</td>\n",
       "      <td>0</td>\n",
       "      <td>0</td>\n",
       "    </tr>\n",
       "  </tbody>\n",
       "</table>\n",
       "<p>2 rows × 231 columns</p>\n",
       "</div>"
      ],
      "text/plain": [
       "       id        pid  lot_frontage  lot_area  overall_qual  overall_cond  \\\n",
       "471  2116  906426060          92.5    159000             6             7   \n",
       "694  2072  905301050          92.5    115149             7             5   \n",
       "\n",
       "     year_built  year_remod/add  mas_vnr_area  exter_qual        ...          \\\n",
       "471        1958            2006         472.0           4        ...           \n",
       "694        1971            2002         351.0           3        ...           \n",
       "\n",
       "     paved_drive_Y  fence_GdWo  fence_MnPrv  fence_MnWw  fence_NA  \\\n",
       "471              1           0            0           0         1   \n",
       "694              1           0            0           0         1   \n",
       "\n",
       "     misc_feature_Gar2  misc_feature_NA  misc_feature_Othr  misc_feature_Shed  \\\n",
       "471                  0                0                  0                  1   \n",
       "694                  0                1                  0                  0   \n",
       "\n",
       "     misc_feature_TenC  \n",
       "471                  0  \n",
       "694                  0  \n",
       "\n",
       "[2 rows x 231 columns]"
      ]
     },
     "execution_count": 1122,
     "metadata": {},
     "output_type": "execute_result"
    }
   ],
   "source": [
    "train.loc[train.lot_area > 100000, :]"
   ]
  },
  {
   "cell_type": "code",
   "execution_count": 1123,
   "metadata": {
    "collapsed": true
   },
   "outputs": [],
   "source": [
    "train.drop([471, 694], inplace=True)"
   ]
  },
  {
   "cell_type": "code",
   "execution_count": 1124,
   "metadata": {},
   "outputs": [
    {
     "data": {
      "image/png": "[encoded data removed]",
      "text/plain": [
       "<matplotlib.figure.Figure at 0x1a1e0c00b8>"
      ]
     },
     "metadata": {},
     "output_type": "display_data"
    }
   ],
   "source": [
    "sns.regplot(train.mas_vnr_area, train.saleprice, train);\n",
    "# I think I'll leave it"
   ]
  },
  {
   "cell_type": "code",
   "execution_count": 1125,
   "metadata": {},
   "outputs": [
    {
     "data": {
      "image/png": "[encoded data removed]",
      "text/plain": [
       "<matplotlib.figure.Figure at 0x1a21a0e400>"
      ]
     },
     "metadata": {},
     "output_type": "display_data"
    }
   ],
   "source": [
    "sns.regplot(train.total_bsmt_sf, train.saleprice, train);"
   ]
  },
  {
   "cell_type": "code",
   "execution_count": 1126,
   "metadata": {},
   "outputs": [
    {
     "data": {
      "text/html": [
       "<div>\n",
       "<style>\n",
       "    .dataframe thead tr:only-child th {\n",
       "        text-align: right;\n",
       "    }\n",
       "\n",
       "    .dataframe thead th {\n",
       "        text-align: left;\n",
       "    }\n",
       "\n",
       "    .dataframe tbody tr th {\n",
       "        vertical-align: top;\n",
       "    }\n",
       "</style>\n",
       "<table border=\"1\" class=\"dataframe\">\n",
       "  <thead>\n",
       "    <tr style=\"text-align: right;\">\n",
       "      <th></th>\n",
       "      <th>id</th>\n",
       "      <th>pid</th>\n",
       "      <th>lot_frontage</th>\n",
       "      <th>lot_area</th>\n",
       "      <th>overall_qual</th>\n",
       "      <th>overall_cond</th>\n",
       "      <th>year_built</th>\n",
       "      <th>year_remod/add</th>\n",
       "      <th>mas_vnr_area</th>\n",
       "      <th>exter_qual</th>\n",
       "      <th>...</th>\n",
       "      <th>paved_drive_Y</th>\n",
       "      <th>fence_GdWo</th>\n",
       "      <th>fence_MnPrv</th>\n",
       "      <th>fence_MnWw</th>\n",
       "      <th>fence_NA</th>\n",
       "      <th>misc_feature_Gar2</th>\n",
       "      <th>misc_feature_NA</th>\n",
       "      <th>misc_feature_Othr</th>\n",
       "      <th>misc_feature_Shed</th>\n",
       "      <th>misc_feature_TenC</th>\n",
       "    </tr>\n",
       "  </thead>\n",
       "  <tbody>\n",
       "    <tr>\n",
       "      <th>1885</th>\n",
       "      <td>2181</td>\n",
       "      <td>908154195</td>\n",
       "      <td>128.0</td>\n",
       "      <td>39290</td>\n",
       "      <td>10</td>\n",
       "      <td>5</td>\n",
       "      <td>2008</td>\n",
       "      <td>2009</td>\n",
       "      <td>1224.0</td>\n",
       "      <td>5</td>\n",
       "      <td>...</td>\n",
       "      <td>1</td>\n",
       "      <td>0</td>\n",
       "      <td>0</td>\n",
       "      <td>0</td>\n",
       "      <td>1</td>\n",
       "      <td>0</td>\n",
       "      <td>0</td>\n",
       "      <td>0</td>\n",
       "      <td>0</td>\n",
       "      <td>0</td>\n",
       "    </tr>\n",
       "  </tbody>\n",
       "</table>\n",
       "<p>1 rows × 231 columns</p>\n",
       "</div>"
      ],
      "text/plain": [
       "        id        pid  lot_frontage  lot_area  overall_qual  overall_cond  \\\n",
       "1885  2181  908154195         128.0     39290            10             5   \n",
       "\n",
       "      year_built  year_remod/add  mas_vnr_area  exter_qual        ...          \\\n",
       "1885        2008            2009        1224.0           5        ...           \n",
       "\n",
       "      paved_drive_Y  fence_GdWo  fence_MnPrv  fence_MnWw  fence_NA  \\\n",
       "1885              1           0            0           0         1   \n",
       "\n",
       "      misc_feature_Gar2  misc_feature_NA  misc_feature_Othr  \\\n",
       "1885                  0                0                  0   \n",
       "\n",
       "      misc_feature_Shed  misc_feature_TenC  \n",
       "1885                  0                  0  \n",
       "\n",
       "[1 rows x 231 columns]"
      ]
     },
     "execution_count": 1126,
     "metadata": {},
     "output_type": "execute_result"
    }
   ],
   "source": [
    "train.loc[train.total_bsmt_sf > 5000, :]"
   ]
  },
  {
   "cell_type": "code",
   "execution_count": 1127,
   "metadata": {
    "collapsed": true
   },
   "outputs": [],
   "source": [
    "train.drop(1885, inplace=True)"
   ]
  },
  {
   "cell_type": "markdown",
   "metadata": {},
   "source": [
    "### _Dealing with skewness:_"
   ]
  },
  {
   "cell_type": "code",
   "execution_count": 1128,
   "metadata": {},
   "outputs": [
    {
     "data": {
      "image/png": "[encoded data removed]",
      "text/plain": [
       "<matplotlib.figure.Figure at 0x1a2185d630>"
      ]
     },
     "metadata": {},
     "output_type": "display_data"
    }
   ],
   "source": [
    "sns.distplot(train.saleprice);\n",
    "# Hmm, seems pretty skewed, guess I'd better try to change that."
   ]
  },
  {
   "cell_type": "code",
   "execution_count": 1129,
   "metadata": {},
   "outputs": [
    {
     "data": {
      "image/png": "[encoded data removed]",
      "text/plain": [
       "<matplotlib.figure.Figure at 0x1a1ed0c048>"
      ]
     },
     "metadata": {},
     "output_type": "display_data"
    }
   ],
   "source": [
    "sns.distplot(train['saleprice'].apply(lambda x: np.log(x)));"
   ]
  },
  {
   "cell_type": "code",
   "execution_count": 1130,
   "metadata": {
    "collapsed": true
   },
   "outputs": [],
   "source": [
    "# train['saleprice'] = train['saleprice'].apply(lambda x: np.log(x))"
   ]
  },
  {
   "cell_type": "markdown",
   "metadata": {},
   "source": [
    "### _Finding features that don't really matter either way:_"
   ]
  },
  {
   "cell_type": "code",
   "execution_count": 1131,
   "metadata": {
    "collapsed": true
   },
   "outputs": [],
   "source": [
    "# Go back and visit this to improve score if possible"
   ]
  },
  {
   "cell_type": "markdown",
   "metadata": {},
   "source": [
    "### _New feature engineering_:"
   ]
  },
  {
   "cell_type": "code",
   "execution_count": 1132,
   "metadata": {},
   "outputs": [],
   "source": [
    "train['total_porch_area'] = train['wood_deck_sf'] + train['open_porch_sf'] + train['enclosed_porch'] + train['3ssn_porch'] + train['screen_porch']\n",
    "\n",
    "train.drop(['wood_deck_sf', 'open_porch_sf', 'enclosed_porch', '3ssn_porch', 'screen_porch'], axis=1, inplace=True)\n",
    "\n",
    "# Seem to be quite a few dealing with area / square footage:\n",
    "\n",
    "train['master_sq_ft'] = train['lot_area'] + train['total_bsmt_sf'] + train['low_qual_fin_sf'] + \\\n",
    "train['gr_liv_area'] + train['garage_area'] + train['total_porch_area'] +\\\n",
    "train['pool_area'] + train['mas_vnr_area'] + train['bsmtfin_sf_1'] + train['bsmtfin_sf_2'] +\\\n",
    "train['bsmt_unf_sf'] + train['1st_flr_sf'] + train['2nd_flr_sf']\n",
    "\n",
    "train.drop(['lot_area','total_bsmt_sf','low_qual_fin_sf', 'gr_liv_area', 'garage_area',\\\n",
    "            'total_porch_area', 'pool_area', 'mas_vnr_area', 'bsmtfin_sf_1', \\\n",
    "            'bsmtfin_sf_2', 'bsmt_unf_sf', '1st_flr_sf', '2nd_flr_sf'], axis=1, inplace=True)\n",
    "\n",
    "train['master_overall'] = train['overall_cond'] + train['overall_qual']\n",
    "\n",
    "train.drop(['overall_cond', 'overall_qual'], axis=1, inplace=True)\n",
    "\n",
    "train['master_garage'] = train['garage_qual'] + train['garage_cond']\n",
    "\n",
    "train.drop(['garage_qual', 'garage_cond'], axis=1, inplace=True)"
   ]
  },
  {
   "cell_type": "code",
   "execution_count": 1133,
   "metadata": {},
   "outputs": [],
   "source": [
    "train.loc[train['year_built'] == train['yr_sold'], :];\n",
    "# Want to be making a \"New House\" variable somehow..."
   ]
  },
  {
   "cell_type": "code",
   "execution_count": 1134,
   "metadata": {},
   "outputs": [],
   "source": [
    "# def new_house_mapper(train):\n",
    "#     if (train['year_built'] == train['yr_sold']) == True:\n",
    "#         return 1\n",
    "#     else:\n",
    "#         return 0"
   ]
  },
  {
   "cell_type": "code",
   "execution_count": 1135,
   "metadata": {},
   "outputs": [
    {
     "data": {
      "text/plain": [
       "0    1966\n",
       "1      79\n",
       "Name: new_house, dtype: int64"
      ]
     },
     "execution_count": 1135,
     "metadata": {},
     "output_type": "execute_result"
    }
   ],
   "source": [
    "train['new_house'] = (train['year_built'] == train['yr_sold']).as_matrix()\n",
    "\n",
    "new_house_encoded = {\n",
    "    False: 0,\n",
    "    True: 1\n",
    "}\n",
    "train['new_house'] = train['new_house'].map(new_house_encoded)\n",
    "\n",
    "train['new_house'].value_counts() # Yay!"
   ]
  },
  {
   "cell_type": "code",
   "execution_count": 1136,
   "metadata": {},
   "outputs": [],
   "source": [
    "# Want to do the same thing but for a remodeled category:\n",
    "train.loc[train['year_built'] != train['year_remod/add'], :];\n",
    "\n",
    "train['remodeled'] = (train['year_built'] != train['year_remod/add']).as_matrix()\n",
    "\n",
    "train['remodeled'] = train['remodeled'].map(new_house_encoded)"
   ]
  },
  {
   "cell_type": "markdown",
   "metadata": {},
   "source": [
    "# // Manipulating test set in the same way //"
   ]
  },
  {
   "cell_type": "markdown",
   "metadata": {},
   "source": [
    "### _Nulls:_"
   ]
  },
  {
   "cell_type": "code",
   "execution_count": 1137,
   "metadata": {},
   "outputs": [],
   "source": [
    "test['pool_qc'] = test['pool_qc'].map(poolqc_encoder)\n",
    "test['misc_feature'] = test['misc_feature'].map(misc_feature_encoder)\n",
    "test['alley'] = test['alley'].map(alley_encoder)\n",
    "test['fence'] = test['fence'].map(fence_encoder)\n",
    "test['fireplace_qu'] = test['fireplace_qu'].map(fireplacequ_encoder)\n",
    "test['garage_cond'] = test['garage_cond'].map(fireplacequ_encoder)\n",
    "test['garage_qual'] = test['garage_qual'].map(fireplacequ_encoder)\n",
    "test['bsmt_cond'] = test['bsmt_cond'].map(fireplacequ_encoder)\n",
    "test['bsmt_qual'] = test['bsmt_qual'].map(fireplacequ_encoder)\n",
    "test['garage_finish'] = test['garage_finish'].map(garage_finish_encoder)\n",
    "test['garage_type'] = test['garage_type'].map(garage_type_encoder)\n",
    "test['bsmt_exposure'] = test['bsmt_exposure'].map(bsmt_exp_encoder)\n",
    "test['bsmtfin_type_1'] = test['bsmtfin_type_1'].map(bsmt_fin_encoder)\n",
    "test['bsmtfin_type_2'] = test['bsmtfin_type_2'].map(bsmt_fin_encoder)\n",
    "test['mas_vnr_type'] = test['mas_vnr_type'].map(mas_vnr_encoder)\n",
    "\n",
    "test['lot_frontage'] = test.apply(lambda x: neigh_frontage_means[x.neighborhood] if np.isnan(x.lot_frontage) else x.lot_frontage, axis=1)\n",
    "test.lot_frontage.fillna(test.lot_frontage.mean(), inplace=True)\n",
    "\n",
    "test['mas_vnr_area'] = test.apply(lambda x: vnr_dict[x.mas_vnr_type] if np.isnan(x.mas_vnr_area) else x.mas_vnr_area, axis=1)\n",
    "\n",
    "test.bsmt_full_bath.fillna(test.bsmt_full_bath.median(), inplace=True)\n",
    "test.bsmt_half_bath.fillna(test.bsmt_half_bath.median(), inplace=True)\n",
    "test.total_bsmt_sf.fillna(test.total_bsmt_sf.median(), inplace=True)\n",
    "test.bsmtfin_sf_2.fillna(test.bsmtfin_sf_2.median(), inplace=True)\n",
    "test.bsmt_unf_sf.fillna(test.bsmt_unf_sf.median(), inplace=True)\n",
    "test.bsmtfin_sf_1.fillna(test.bsmtfin_sf_1.median(), inplace=True)\n",
    "test.garage_cars.fillna(test.garage_cars.median(), inplace=True)\n",
    "test.garage_area.fillna(test.garage_area.median(), inplace=True)"
   ]
  },
  {
   "cell_type": "markdown",
   "metadata": {},
   "source": [
    "### _Ordinals:_"
   ]
  },
  {
   "cell_type": "code",
   "execution_count": 1138,
   "metadata": {
    "collapsed": true
   },
   "outputs": [],
   "source": [
    "test['exter_qual'] = test['exter_qual'].map(simple_qual_encoded)\n",
    "test['exter_cond'] = test['exter_cond'].map(simple_qual_encoded)\n",
    "test['bsmt_qual'] = test['bsmt_qual'].map(simple_qual_encoded)\n",
    "test['bsmt_cond'] = test['bsmt_cond'].map(simple_qual_encoded)\n",
    "test['heating_qc'] = test['heating_qc'].map(simple_qual_encoded)\n",
    "test['kitchen_qual'] = test['kitchen_qual'].map(simple_qual_encoded)\n",
    "test['fireplace_qu'] = test['fireplace_qu'].map(simple_qual_encoded)\n",
    "test['garage_qual'] = test['garage_qual'].map(simple_qual_encoded)\n",
    "test['garage_cond'] = test['garage_cond'].map(simple_qual_encoded)\n",
    "test['pool_qc'] = test['pool_qc'].map(simple_qual_encoded)\n",
    "test['central_air'] = test['central_air'].map(centralair_encoded)\n",
    "test['functional'] = test['functional'].map(functional_encoded)\n",
    "test['garage_finish'] = test['garage_finish'].map(garage_finish_encoded)"
   ]
  },
  {
   "cell_type": "markdown",
   "metadata": {},
   "source": [
    "### _Nominals:_"
   ]
  },
  {
   "cell_type": "code",
   "execution_count": 1139,
   "metadata": {
    "collapsed": true
   },
   "outputs": [],
   "source": [
    "test['ms_subclass'] = test['ms_subclass'].astype('category')\n",
    "test = pd.get_dummies(test, columns = ['ms_subclass'], drop_first = True)\n",
    "test['ms_zoning'] = test['ms_zoning'].astype('category')\n",
    "test = pd.get_dummies(test, columns = ['ms_zoning'], drop_first = True)\n",
    "test['street'] = test['street'].astype('category')\n",
    "test = pd.get_dummies(test, columns = ['street'], drop_first = True)\n",
    "test['alley'] = test['alley'].astype('category')\n",
    "test = pd.get_dummies(test, columns = ['alley'], drop_first = True)\n",
    "test['lot_shape'] = test['lot_shape'].astype('category')\n",
    "test = pd.get_dummies(test, columns = ['lot_shape'], drop_first = True)\n",
    "test['land_contour'] = test['land_contour'].astype('category')\n",
    "test = pd.get_dummies(test, columns = ['land_contour'], drop_first = True)\n",
    "test['utilities'] = test['utilities'].astype('category')\n",
    "test = pd.get_dummies(test, columns = ['utilities'], drop_first = True)\n",
    "test['lot_config'] = test['lot_config'].astype('category')\n",
    "test = pd.get_dummies(test, columns = ['lot_config'], drop_first = True)\n",
    "test['land_slope'] = test['land_slope'].astype('category')\n",
    "test = pd.get_dummies(test, columns = ['land_slope'], drop_first = True)\n",
    "test['neighborhood'] = test['neighborhood'].astype('category')\n",
    "test = pd.get_dummies(test, columns = ['neighborhood'], drop_first = True)\n",
    "test['condition_1'] = test['condition_1'].astype('category')\n",
    "test = pd.get_dummies(test, columns = ['condition_1'], drop_first = True)\n",
    "test['condition_2'] = test['condition_2'].astype('category')\n",
    "test = pd.get_dummies(test, columns = ['condition_2'], drop_first = True)\n",
    "test['bldg_type'] = test['bldg_type'].astype('category')\n",
    "test = pd.get_dummies(test, columns = ['bldg_type'], drop_first = True)\n",
    "test['house_style'] = test['house_style'].astype('category')\n",
    "test = pd.get_dummies(test, columns = ['house_style'], drop_first = True)\n",
    "test['roof_style'] = test['roof_style'].astype('category')\n",
    "test = pd.get_dummies(test, columns = ['roof_style'], drop_first = True)\n",
    "test['roof_matl'] = test['roof_matl'].astype('category')\n",
    "test = pd.get_dummies(test, columns = ['roof_matl'], drop_first = True)\n",
    "test['exterior_1st'] = test['exterior_1st'].astype('category')\n",
    "test = pd.get_dummies(test, columns = ['exterior_1st'], drop_first = True)\n",
    "test['exterior_2nd'] = test['exterior_2nd'].astype('category')\n",
    "test = pd.get_dummies(test, columns = ['exterior_2nd'], drop_first = True)\n",
    "test['mas_vnr_type'] = test['mas_vnr_type'].astype('category')\n",
    "test = pd.get_dummies(test, columns = ['mas_vnr_type'], drop_first = True)\n",
    "test['foundation'] = test['foundation'].astype('category')\n",
    "test = pd.get_dummies(test, columns = ['foundation'], drop_first = True)\n",
    "test['bsmt_exposure'] = test['bsmt_exposure'].astype('category')\n",
    "test = pd.get_dummies(test, columns = ['bsmt_exposure'], drop_first = True)\n",
    "test['bsmtfin_type_1'] = test['bsmtfin_type_1'].astype('category')\n",
    "test = pd.get_dummies(test, columns = ['bsmtfin_type_1'], drop_first = True)\n",
    "test['bsmtfin_type_2'] = test['bsmtfin_type_2'].astype('category')\n",
    "test = pd.get_dummies(test, columns = ['bsmtfin_type_2'], drop_first = True)\n",
    "test['heating'] = test['heating'].astype('category')\n",
    "test = pd.get_dummies(test, columns = ['heating'], drop_first = True)\n",
    "test['electrical'] = test['electrical'].astype('category')\n",
    "test = pd.get_dummies(test, columns = ['electrical'], drop_first = True)\n",
    "test['garage_type'] = test['garage_type'].astype('category')\n",
    "test = pd.get_dummies(test, columns = ['garage_type'], drop_first = True)\n",
    "test['paved_drive'] = test['paved_drive'].astype('category')\n",
    "test = pd.get_dummies(test, columns = ['paved_drive'], drop_first = True)\n",
    "test['fence'] = test['fence'].astype('category')\n",
    "test = pd.get_dummies(test, columns = ['fence'], drop_first = True)\n",
    "test['misc_feature'] = test['misc_feature'].astype('category')\n",
    "test = pd.get_dummies(test, columns = ['misc_feature'], drop_first = True)"
   ]
  },
  {
   "cell_type": "markdown",
   "metadata": {},
   "source": [
    "### _New features:_"
   ]
  },
  {
   "cell_type": "code",
   "execution_count": 1140,
   "metadata": {
    "collapsed": true
   },
   "outputs": [],
   "source": [
    "test['total_porch_area'] = test['wood_deck_sf'] + test['open_porch_sf'] + test['enclosed_porch'] + test['3ssn_porch'] + test['screen_porch']\n",
    "test.drop(['wood_deck_sf', 'open_porch_sf', 'enclosed_porch', '3ssn_porch', 'screen_porch'], axis=1, inplace=True)\n",
    "\n",
    "test['master_sq_ft'] = test['lot_area'] + test['total_bsmt_sf'] + test['low_qual_fin_sf'] + \\\n",
    "test['gr_liv_area'] + test['garage_area'] + test['total_porch_area'] +\\\n",
    "test['pool_area'] + test['mas_vnr_area'] + test['bsmtfin_sf_1'] + test['bsmtfin_sf_2'] +\\\n",
    "test['bsmt_unf_sf'] + test['1st_flr_sf'] + test['2nd_flr_sf']\n",
    "test.drop(['lot_area','total_bsmt_sf','low_qual_fin_sf', 'gr_liv_area', 'garage_area',\\\n",
    "            'total_porch_area', 'pool_area', 'mas_vnr_area', 'bsmtfin_sf_1', \\\n",
    "            'bsmtfin_sf_2', 'bsmt_unf_sf', '1st_flr_sf', '2nd_flr_sf'], axis=1, inplace=True)\n",
    "\n",
    "test['master_overall'] = test['overall_cond'] + test['overall_qual']\n",
    "test.drop(['overall_cond', 'overall_qual'], axis=1, inplace=True)\n",
    "\n",
    "test['master_garage'] = test['garage_qual'] + test['garage_cond']\n",
    "test.drop(['garage_qual', 'garage_cond'], axis=1, inplace=True)\n",
    "\n",
    "test['new_house'] = (test['year_built'] == test['yr_sold']).as_matrix()\n",
    "test['new_house'] = test['new_house'].map(new_house_encoded)\n",
    "\n",
    "test['remodeled'] = (test['year_built'] != test['year_remod/add']).as_matrix()\n",
    "test['remodeled'] = test['remodeled'].map(new_house_encoded)"
   ]
  },
  {
   "cell_type": "markdown",
   "metadata": {},
   "source": [
    "# // Trying a model //"
   ]
  },
  {
   "cell_type": "code",
   "execution_count": 1157,
   "metadata": {},
   "outputs": [
    {
     "data": {
      "text/plain": [
       "saleprice               1.000000\n",
       "exter_qual              0.716176\n",
       "kitchen_qual            0.693922\n",
       "garage_cars             0.648849\n",
       "garage_finish           0.617067\n",
       "bsmt_qual               0.612987\n",
       "master_overall          0.598794\n",
       "year_built              0.573235\n",
       "garage_yr_blt           0.553423\n",
       "master_sq_ft            0.552139\n",
       "year_remod/add          0.549950\n",
       "fireplace_qu            0.538706\n",
       "full_bath               0.537540\n",
       "foundation_PConc        0.531657\n",
       "totrms_abvgrd           0.510938\n",
       "fireplaces              0.472113\n",
       "bsmtfin_type_1_GLQ      0.463601\n",
       "heating_qc              0.459792\n",
       "neighborhood_NridgHt    0.449837\n",
       "mas_vnr_type_NA         0.411704\n",
       "bsmt_exposure_Gd        0.377150\n",
       "garage_type_Detchd      0.369782\n",
       "foundation_CBlock       0.358224\n",
       "ms_subclass_60          0.357747\n",
       "garage_type_Attchd      0.356968\n",
       "lot_frontage            0.356755\n",
       "exterior_1st_VinylSd    0.343455\n",
       "exterior_2nd_VinylSd    0.338854\n",
       "mas_vnr_type_Stone      0.311381\n",
       "lot_shape_Reg           0.304700\n",
       "bsmt_exposure_No        0.291403\n",
       "paved_drive_Y           0.288971\n",
       "half_bath               0.285563\n",
       "bsmt_full_bath          0.284763\n",
       "ms_zoning_RM            0.281507\n",
       "master_garage           0.278492\n",
       "central_air             0.277211\n",
       "roof_style_Hip          0.266439\n",
       "neighborhood_NoRidge    0.264094\n",
       "new_house               0.260365\n",
       "mas_vnr_type_BrkFace    0.259837\n",
       "neighborhood_StoneBr    0.257628\n",
       "pid                     0.257250\n",
       "electrical_SBrkr        0.253765\n",
       "roof_style_Gable        0.249782\n",
       "ms_subclass_30          0.248411\n",
       "garage_type_NA          0.230814\n",
       "ms_zoning_RL            0.230752\n",
       "bsmt_cond               0.225126\n",
       "garage_type_BuiltIn     0.220700\n",
       "land_contour_HLS        0.210844\n",
       "neighborhood_OldTown    0.208059\n",
       "house_style_2Story      0.204061\n",
       "exterior_1st_Wd Sdng    0.194625\n",
       "neighborhood_NAmes      0.190097\n",
       "neighborhood_IDOTRR     0.189110\n",
       "ms_subclass_50          0.184334\n",
       "fence_NA                0.181027\n",
       "neighborhood_Edwards    0.176491\n",
       "exterior_2nd_Wd Sdng    0.173837\n",
       "exterior_1st_CemntBd    0.169030\n",
       "lot_config_CulDSac      0.158906\n",
       "exterior_2nd_CmentBd    0.158445\n",
       "bsmtfin_type_1_NA       0.157255\n",
       "bsmtfin_type_1_Rec      0.152925\n",
       "bsmtfin_type_2_NA       0.152001\n",
       "neighborhood_Somerst    0.150851\n",
       "bsmt_exposure_NA        0.150194\n",
       "fence_MnPrv             0.149927\n",
       "exterior_1st_MetalSd    0.149168\n",
       "exterior_2nd_MetalSd    0.138649\n",
       "bedroom_abvgr           0.137484\n",
       "alley_NA                0.134679\n",
       "neighborhood_BrkSide    0.134566\n",
       "neighborhood_Sawyer     0.133378\n",
       "bsmtfin_type_1_BLQ      0.129603\n",
       "electrical_FuseF        0.129254\n",
       "ms_zoning_C (all)       0.126222\n",
       "functional              0.125376\n",
       "kitchen_abvgr           0.125189\n",
       "bsmtfin_type_1_Unf      0.123597\n",
       "foundation_Slab         0.118942\n",
       "ms_subclass_160         0.114660\n",
       "neighborhood_Timber     0.114558\n",
       "condition_1_Feedr       0.113922\n",
       "bldg_type_Twnhs         0.113661\n",
       "exterior_1st_HdBoard    0.113639\n",
       "bsmtfin_type_2_Unf      0.113240\n",
       "condition_1_Norm        0.111722\n",
       "neighborhood_MeadowV    0.111482\n",
       "bldg_type_2fmCon        0.111258\n",
       "ms_subclass_190         0.109094\n",
       "ms_zoning_FV            0.107332\n",
       "condition_1_PosN        0.107271\n",
       "condition_2_PosN        0.103682\n",
       "exterior_2nd_HdBoard    0.103681\n",
       "bldg_type_Duplex        0.103424\n",
       "ms_subclass_90          0.103424\n",
       "lot_shape_IR2           0.102652\n",
       "fence_GdWo              0.101343\n",
       "condition_2_PosA        0.101264\n",
       "ms_subclass_120         0.101138\n",
       "roof_matl_WdShngl       0.098768\n",
       "neighborhood_BrDale     0.095232\n",
       "paved_drive_P           0.090573\n",
       "land_contour_Lvl        0.087790\n",
       "neighborhood_Veenker    0.083495\n",
       "neighborhood_CollgCr    0.083091\n",
       "lot_config_Inside       0.081055\n",
       "bsmtfin_type_1_LwQ      0.081055\n",
       "ms_subclass_70          0.075667\n",
       "neighborhood_SWISU      0.074050\n",
       "heating_Grav            0.072544\n",
       "electrical_FuseP        0.072339\n",
       "garage_type_CarPort     0.071898\n",
       "heating_Wall            0.071294\n",
       "roof_matl_CompShg       0.069987\n",
       "street_Pave             0.069813\n",
       "condition_1_PosA        0.069217\n",
       "house_style_1.5Unf      0.066734\n",
       "ms_subclass_180         0.066470\n",
       "house_style_SFoyer      0.063842\n",
       "bldg_type_TwnhsE        0.062749\n",
       "exterior_2nd_Plywood    0.061710\n",
       "land_slope_Mod          0.060934\n",
       "exterior_2nd_Wd Shng    0.060873\n",
       "exterior_1st_Stucco     0.060672\n",
       "ms_subclass_45          0.060253\n",
       "neighborhood_Crawfor    0.058870\n",
       "garage_type_Basment     0.055552\n",
       "bsmtfin_type_2_GLQ      0.053831\n",
       "condition_1_RRAe        0.053491\n",
       "id                      0.052890\n",
       "misc_feature_NA         0.052392\n",
       "exterior_2nd_Stucco     0.051457\n",
       "misc_feature_Shed       0.051195\n",
       "remodeled               0.050058\n",
       "exterior_1st_WdShing    0.048617\n",
       "condition_2_Feedr       0.048366\n",
       "bsmtfin_type_2_BLQ      0.048210\n",
       "exterior_2nd_Brk Cmn    0.047765\n",
       "bsmt_half_bath          0.047550\n",
       "neighborhood_NPkVill    0.047167\n",
       "roof_matl_WdShake       0.046338\n",
       "exterior_2nd_ImStucc    0.042846\n",
       "neighborhood_ClearCr    0.042715\n",
       "house_style_2.5Fin      0.042690\n",
       "bsmtfin_type_2_Rec      0.042681\n",
       "roof_style_Gambrel      0.041778\n",
       "bsmtfin_type_2_LwQ      0.041722\n",
       "house_style_SLvl        0.041694\n",
       "exterior_1st_Plywood    0.041549\n",
       "fence_MnWw              0.040812\n",
       "ms_subclass_85          0.039999\n",
       "neighborhood_GrnHill    0.038968\n",
       "heating_GasW            0.037656\n",
       "exter_cond              0.036959\n",
       "neighborhood_NWAmes     0.035423\n",
       "exterior_2nd_CBlock     0.035258\n",
       "neighborhood_Mitchel    0.035192\n",
       "exterior_1st_CBlock     0.034765\n",
       "ms_subclass_40          0.034734\n",
       "ms_zoning_I (all)       0.034520\n",
       "utilities_NoSewr        0.034520\n",
       "pool_qc                 0.034128\n",
       "ms_zoning_RH            0.033989\n",
       "condition_2_RRNn        0.033383\n",
       "electrical_Mix          0.031903\n",
       "mo_sold                 0.031501\n",
       "ms_subclass_80          0.031019\n",
       "exterior_1st_Stone      0.030479\n",
       "bsmt_exposure_Mn        0.029991\n",
       "exterior_1st_AsphShn    0.027612\n",
       "exterior_1st_BrkFace    0.026658\n",
       "ms_subclass_75          0.026415\n",
       "neighborhood_Blueste    0.025146\n",
       "condition_1_RRNe        0.024999\n",
       "land_contour_Low        0.024569\n",
       "exterior_2nd_Stone      0.024561\n",
       "neighborhood_Gilbert    0.024528\n",
       "exterior_1st_BrkComm    0.024330\n",
       "exterior_2nd_AsphShn    0.023785\n",
       "foundation_Stone        0.023781\n",
       "house_style_1Story      0.022850\n",
       "exterior_1st_ImStucc    0.022524\n",
       "heating_OthW            0.021933\n",
       "roof_style_Mansard      0.021195\n",
       "misc_feature_Gar2       0.019441\n",
       "misc_feature_TenC       0.019174\n",
       "neighborhood_SawyerW    0.017179\n",
       "roof_matl_Membran       0.016802\n",
       "condition_1_RRAn        0.014691\n",
       "lot_config_FR3          0.014513\n",
       "lot_config_FR2          0.014476\n",
       "alley_Pave              0.014196\n",
       "yr_sold                 0.014159\n",
       "roof_style_Shed         0.013236\n",
       "lot_shape_IR3           0.012675\n",
       "condition_2_RRAn        0.012392\n",
       "neighborhood_Landmrk    0.012365\n",
       "utilities_NoSeWa        0.012226\n",
       "condition_1_RRNn        0.011573\n",
       "house_style_2.5Unf      0.010984\n",
       "exterior_2nd_BrkFace    0.010978\n",
       "misc_val                0.010796\n",
       "condition_2_Norm        0.010013\n",
       "ms_subclass_150         0.009183\n",
       "misc_feature_Othr       0.008771\n",
       "land_slope_Sev          0.008248\n",
       "neighborhood_Greens     0.003562\n",
       "foundation_Wood         0.002982\n",
       "roof_matl_Tar&Grv       0.002919\n",
       "condition_2_RRAe        0.002428\n",
       "Name: saleprice, dtype: float64"
      ]
     },
     "execution_count": 1157,
     "metadata": {},
     "output_type": "execute_result"
    }
   ],
   "source": [
    "train.corr()['saleprice'].abs().sort_values(ascending=False)"
   ]
  },
  {
   "cell_type": "code",
   "execution_count": 1158,
   "metadata": {
    "collapsed": true
   },
   "outputs": [],
   "source": [
    "new_features = ['new_house', 'remodeled', 'master_sq_ft', 'master_overall', 'master_garage']"
   ]
  },
  {
   "cell_type": "code",
   "execution_count": 1159,
   "metadata": {
    "collapsed": true
   },
   "outputs": [],
   "source": [
    "tweak_features = ['exter_qual', 'kitchen_qual', 'bsmt_qual']"
   ]
  },
  {
   "cell_type": "code",
   "execution_count": 1161,
   "metadata": {},
   "outputs": [],
   "source": [
    "neighborhood_features = [col for col in train.columns if 'neighborhood_' in col]"
   ]
  },
  {
   "cell_type": "code",
   "execution_count": 1162,
   "metadata": {
    "collapsed": true
   },
   "outputs": [],
   "source": [
    "# foundation_features = [col for col in train.columns if 'foundation_' in col]"
   ]
  },
  {
   "cell_type": "code",
   "execution_count": 1189,
   "metadata": {
    "collapsed": true
   },
   "outputs": [],
   "source": [
    "features1 = new_features + neighborhood_features"
   ]
  },
  {
   "cell_type": "code",
   "execution_count": 1190,
   "metadata": {
    "collapsed": true
   },
   "outputs": [],
   "source": [
    "y = train['saleprice']"
   ]
  },
  {
   "cell_type": "code",
   "execution_count": 1174,
   "metadata": {
    "collapsed": true
   },
   "outputs": [],
   "source": [
    "pd.set_option('display.max_rows', 290)"
   ]
  },
  {
   "cell_type": "code",
   "execution_count": 1175,
   "metadata": {},
   "outputs": [],
   "source": [
    "train._get_numeric_data().isnull().sum();"
   ]
  },
  {
   "cell_type": "code",
   "execution_count": 1176,
   "metadata": {},
   "outputs": [],
   "source": [
    "features = [col for col in train.columns if col not in ['mo_sold', 'saleprice', 'garage_finish', 'sale_condition', 'sale_type']]"
   ]
  },
  {
   "cell_type": "code",
   "execution_count": 1191,
   "metadata": {},
   "outputs": [],
   "source": [
    "X = train[features1]"
   ]
  },
  {
   "cell_type": "code",
   "execution_count": 1192,
   "metadata": {
    "collapsed": true
   },
   "outputs": [],
   "source": [
    "X_train, X_holdout, y_train, y_holdout = train_test_split(X, y, random_state = 42)"
   ]
  },
  {
   "cell_type": "code",
   "execution_count": 1193,
   "metadata": {
    "collapsed": true
   },
   "outputs": [],
   "source": [
    "imp = Imputer()\n",
    "ss = StandardScaler()\n",
    "\n",
    "lasso = Lasso(max_iter=2500)\n",
    "ridge = Ridge(max_iter=2000)\n",
    "enet = ElasticNet()\n",
    "\n",
    "pipe = Pipeline([                               # Things need to be in order like a factory\n",
    "#     ('features', features),\n",
    "    ('imp', imp),\n",
    "#     ('poly', poly),\n",
    "    ('ss', ss),\n",
    "#     ('lasso', lasso),\n",
    "#     ('ridge', ridge),\n",
    "    ('enet', enet),\n",
    "])"
   ]
  },
  {
   "cell_type": "code",
   "execution_count": 1194,
   "metadata": {},
   "outputs": [
    {
     "name": "stdout",
     "output_type": "stream",
     "text": [
      "0.757175966435\n",
      "{'imp__strategy': 'most_frequent', 'enet__l1_ratio': 1, 'enet__alpha': 0.7599999999999999}\n"
     ]
    }
   ],
   "source": [
    "params = {\n",
    "    'imp__strategy': ['mean', 'median','most_frequent'],\n",
    "#     'lasso__alpha': np.arange(.001, .15, .0025),\n",
    "#     'ridge__alpha': np.logspace(0, 5, 200),\n",
    "    'enet__alpha' : np.arange(.01, 1.0, .005),\n",
    "    'enet__l1_ratio': [.1, .5, .7,.9, .95, .99, 1]\n",
    "}\n",
    "rs = RandomizedSearchCV(pipe, param_distributions=params, n_iter=10)\n",
    "rs.fit(X_train, y_train)\n",
    "print (rs.best_score_)\n",
    "print (rs.best_params_)"
   ]
  },
  {
   "cell_type": "code",
   "execution_count": 1195,
   "metadata": {},
   "outputs": [],
   "source": [
    "X_test = test[features1]"
   ]
  },
  {
   "cell_type": "code",
   "execution_count": 1196,
   "metadata": {},
   "outputs": [
    {
     "data": {
      "text/plain": [
       "(879, 221)"
      ]
     },
     "execution_count": 1196,
     "metadata": {},
     "output_type": "execute_result"
    }
   ],
   "source": [
    "test.shape"
   ]
  },
  {
   "cell_type": "code",
   "execution_count": 1197,
   "metadata": {
    "collapsed": true
   },
   "outputs": [],
   "source": [
    "test['neighborhood_GrnHill'] = [0 for x in range(1, 880)]\n",
    "test['neighborhood_Landmrk'] = [0 for x in range(1, 880)]\n",
    "test['ms_zoning_C (all)'] = [0 for x in range(1, 880)]\n",
    "test['roof_matl_Membran'] = [0 for x in range(1, 880)]\n",
    "test['exterior_1st_CBlock'] = [0 for x in range(1, 880)]\n",
    "test['exterior_1st_ImStucc'] = [0 for x in range(1, 880)]\n",
    "test['exterior_1st_Stone'] = [0 for x in range(1, 880)]\n",
    "test['electrical_Mix'] = [0 for x in range(1, 880)]\n",
    "test['ms_subclass_150'] = [0 for x in range(1, 880)]\n",
    "test['utilities_NoSeWa'] = [0 for x in range(1, 880)]\n",
    "test['condition_2_Feedr'] = [0 for x in range(1, 880)]\n",
    "test['condition_2_RRAe'] = [0 for x in range(1, 880)]\n",
    "test['condition_2_RRAn'] = [0 for x in range(1, 880)]\n",
    "test['condition_2_RRNn'] = [0 for x in range(1, 880)]\n",
    "test['exterior_1st_Stone'] = [0 for x in range(1, 880)]\n",
    "test['roof_matl_CompShg'] = [0 for x in range(1, 880)]\n",
    "test['exterior_2nd_Stone'] = [0 for x in range(1, 880)]\n",
    "test['heating_OthW'] = [0 for x in range(1, 880)]\n",
    "test['heating_Wall'] = [0 for x in range(1, 880)]\n",
    "test['misc_feature_Gar2'] = [0 for x in range(1, 880)]\n",
    "test['misc_feature_TenC'] = [0 for x in range(1, 880)]"
   ]
  },
  {
   "cell_type": "code",
   "execution_count": 1198,
   "metadata": {},
   "outputs": [
    {
     "data": {
      "text/html": [
       "<div>\n",
       "<style>\n",
       "    .dataframe thead tr:only-child th {\n",
       "        text-align: right;\n",
       "    }\n",
       "\n",
       "    .dataframe thead th {\n",
       "        text-align: left;\n",
       "    }\n",
       "\n",
       "    .dataframe tbody tr th {\n",
       "        vertical-align: top;\n",
       "    }\n",
       "</style>\n",
       "<table border=\"1\" class=\"dataframe\">\n",
       "  <thead>\n",
       "    <tr style=\"text-align: right;\">\n",
       "      <th></th>\n",
       "      <th>Id</th>\n",
       "      <th>pid</th>\n",
       "      <th>lot_frontage</th>\n",
       "      <th>year_built</th>\n",
       "      <th>year_remod/add</th>\n",
       "      <th>exter_qual</th>\n",
       "      <th>exter_cond</th>\n",
       "      <th>bsmt_qual</th>\n",
       "      <th>bsmt_cond</th>\n",
       "      <th>heating_qc</th>\n",
       "      <th>...</th>\n",
       "      <th>condition_2_RRAe</th>\n",
       "      <th>condition_2_RRAn</th>\n",
       "      <th>condition_2_RRNn</th>\n",
       "      <th>roof_matl_CompShg</th>\n",
       "      <th>exterior_2nd_Stone</th>\n",
       "      <th>heating_OthW</th>\n",
       "      <th>heating_Wall</th>\n",
       "      <th>misc_feature_Gar2</th>\n",
       "      <th>misc_feature_TenC</th>\n",
       "      <th>SalePrice</th>\n",
       "    </tr>\n",
       "  </thead>\n",
       "  <tbody>\n",
       "    <tr>\n",
       "      <th>0</th>\n",
       "      <td>2658</td>\n",
       "      <td>902301120</td>\n",
       "      <td>69.000000</td>\n",
       "      <td>1910</td>\n",
       "      <td>1950</td>\n",
       "      <td>3</td>\n",
       "      <td>2</td>\n",
       "      <td>2</td>\n",
       "      <td>3</td>\n",
       "      <td>4</td>\n",
       "      <td>...</td>\n",
       "      <td>0</td>\n",
       "      <td>0</td>\n",
       "      <td>0</td>\n",
       "      <td>0</td>\n",
       "      <td>0</td>\n",
       "      <td>0</td>\n",
       "      <td>0</td>\n",
       "      <td>0</td>\n",
       "      <td>0</td>\n",
       "      <td>168584.165770</td>\n",
       "    </tr>\n",
       "    <tr>\n",
       "      <th>1</th>\n",
       "      <td>2718</td>\n",
       "      <td>905108090</td>\n",
       "      <td>72.774648</td>\n",
       "      <td>1977</td>\n",
       "      <td>1977</td>\n",
       "      <td>3</td>\n",
       "      <td>3</td>\n",
       "      <td>4</td>\n",
       "      <td>3</td>\n",
       "      <td>3</td>\n",
       "      <td>...</td>\n",
       "      <td>0</td>\n",
       "      <td>0</td>\n",
       "      <td>0</td>\n",
       "      <td>0</td>\n",
       "      <td>0</td>\n",
       "      <td>0</td>\n",
       "      <td>0</td>\n",
       "      <td>0</td>\n",
       "      <td>0</td>\n",
       "      <td>121569.903507</td>\n",
       "    </tr>\n",
       "    <tr>\n",
       "      <th>2</th>\n",
       "      <td>2414</td>\n",
       "      <td>528218130</td>\n",
       "      <td>58.000000</td>\n",
       "      <td>2006</td>\n",
       "      <td>2006</td>\n",
       "      <td>4</td>\n",
       "      <td>3</td>\n",
       "      <td>4</td>\n",
       "      <td>4</td>\n",
       "      <td>5</td>\n",
       "      <td>...</td>\n",
       "      <td>0</td>\n",
       "      <td>0</td>\n",
       "      <td>0</td>\n",
       "      <td>0</td>\n",
       "      <td>0</td>\n",
       "      <td>0</td>\n",
       "      <td>0</td>\n",
       "      <td>0</td>\n",
       "      <td>0</td>\n",
       "      <td>247469.214485</td>\n",
       "    </tr>\n",
       "  </tbody>\n",
       "</table>\n",
       "<p>3 rows × 221 columns</p>\n",
       "</div>"
      ],
      "text/plain": [
       "     Id        pid  lot_frontage  year_built  year_remod/add  exter_qual  \\\n",
       "0  2658  902301120     69.000000        1910            1950           3   \n",
       "1  2718  905108090     72.774648        1977            1977           3   \n",
       "2  2414  528218130     58.000000        2006            2006           4   \n",
       "\n",
       "   exter_cond  bsmt_qual  bsmt_cond  heating_qc      ...        \\\n",
       "0           2          2          3           4      ...         \n",
       "1           3          4          3           3      ...         \n",
       "2           3          4          4           5      ...         \n",
       "\n",
       "   condition_2_RRAe  condition_2_RRAn  condition_2_RRNn  roof_matl_CompShg  \\\n",
       "0                 0                 0                 0                  0   \n",
       "1                 0                 0                 0                  0   \n",
       "2                 0                 0                 0                  0   \n",
       "\n",
       "   exterior_2nd_Stone  heating_OthW  heating_Wall  misc_feature_Gar2  \\\n",
       "0                   0             0             0                  0   \n",
       "1                   0             0             0                  0   \n",
       "2                   0             0             0                  0   \n",
       "\n",
       "   misc_feature_TenC      SalePrice  \n",
       "0                  0  168584.165770  \n",
       "1                  0  121569.903507  \n",
       "2                  0  247469.214485  \n",
       "\n",
       "[3 rows x 221 columns]"
      ]
     },
     "execution_count": 1198,
     "metadata": {},
     "output_type": "execute_result"
    }
   ],
   "source": [
    "predictions = rs.best_estimator_.predict(X_test)\n",
    "\n",
    "test['SalePrice'] = predictions\n",
    "\n",
    "test = test.rename(columns={'id': 'Id'})\n",
    "\n",
    "test.head(3)"
   ]
  },
  {
   "cell_type": "code",
   "execution_count": 1199,
   "metadata": {
    "collapsed": true
   },
   "outputs": [],
   "source": [
    "test[['Id', 'SalePrice']].to_csv('p2_reg_24.csv', index=False)"
   ]
  },
  {
   "cell_type": "code",
   "execution_count": null,
   "metadata": {
    "collapsed": true
   },
   "outputs": [],
   "source": []
  }
 ],
 "metadata": {
  "kernelspec": {
   "display_name": "Python 3",
   "language": "python",
   "name": "python3"
  },
  "language_info": {
   "codemirror_mode": {
    "name": "ipython",
    "version": 3
   },
   "file_extension": ".py",
   "mimetype": "text/x-python",
   "name": "python",
   "nbconvert_exporter": "python",
   "pygments_lexer": "ipython3",
   "version": "3.6.3"
  }
 },
 "nbformat": 4,
 "nbformat_minor": 2
}
